{
 "cells": [
  {
   "cell_type": "markdown",
   "metadata": {},
   "source": [
    "## PS3 Part 2"
   ]
  },
  {
   "cell_type": "code",
   "execution_count": 1,
   "metadata": {},
   "outputs": [
    {
     "name": "stderr",
     "output_type": "stream",
     "text": [
      "/Users/ivychen/anaconda3/lib/python3.6/site-packages/h5py/__init__.py:34: FutureWarning: Conversion of the second argument of issubdtype from `float` to `np.floating` is deprecated. In future, it will be treated as `np.float64 == np.dtype(float).type`.\n",
      "  from ._conv import register_converters as _register_converters\n",
      "Using TensorFlow backend.\n"
     ]
    }
   ],
   "source": [
    "import pandas as pd\n",
    "import numpy as np \n",
    "import random \n",
    "from keras.datasets import mnist\n",
    "import matplotlib.pyplot as plt\n",
    "from keras import models\n",
    "from keras import layers\n",
    "from keras.layers import Dense, Dropout\n",
    "from keras.utils import to_categorical\n",
    "from sklearn.model_selection import train_test_split\n",
    "%matplotlib inline\n",
    "\n",
    "from keras.datasets import boston_housing\n",
    "\n",
    "(train_data, train_targets), (test_data, test_targets) =boston_housing.load_data()"
   ]
  },
  {
   "cell_type": "code",
   "execution_count": 2,
   "metadata": {
    "collapsed": true
   },
   "outputs": [],
   "source": [
    "mean = train_data.mean(axis=0)\n",
    "train_data -= mean\n",
    "std = train_data.std(axis=0)\n",
    "train_data /= std\n",
    "\n",
    "test_data -= mean\n",
    "test_data /= std"
   ]
  },
  {
   "cell_type": "markdown",
   "metadata": {},
   "source": [
    "#### Model 1"
   ]
  },
  {
   "cell_type": "code",
   "execution_count": 3,
   "metadata": {
    "collapsed": true
   },
   "outputs": [],
   "source": [
    "def build_model():\n",
    "    model = models.Sequential()\n",
    "    model.add(layers.Dense(64, activation='relu',\n",
    "                           input_shape=(train_data.shape[1],)))\n",
    "    model.add(layers.Dense(64, activation='relu'))\n",
    "    model.add(layers.Dense(1))\n",
    "    model.compile(optimizer='rmsprop', loss='mse')\n",
    "    return model"
   ]
  },
  {
   "cell_type": "code",
   "execution_count": 4,
   "metadata": {},
   "outputs": [
    {
     "name": "stdout",
     "output_type": "stream",
     "text": [
      "processing fold # 0\n",
      "processing fold # 1\n",
      "processing fold # 2\n",
      "processing fold # 3\n",
      "processing fold # 4\n",
      "processing fold # 5\n",
      "processing fold # 6\n",
      "processing fold # 7\n",
      "processing fold # 8\n",
      "processing fold # 9\n"
     ]
    }
   ],
   "source": [
    "k=10\n",
    "num_val_samples = len(train_data) // k\n",
    "num_epochs = 20\n",
    "all_mse_histories = []\n",
    "for i in range(k):\n",
    "    print('processing fold #', i)\n",
    "    val_data = train_data[i * num_val_samples: (i + 1) * num_val_samples]\n",
    "    val_targets = train_targets[i * num_val_samples: (i + 1) * num_val_samples]\n",
    "    partial_train_data = np.concatenate(\n",
    "        [train_data[:i * num_val_samples],\n",
    "         train_data[(i + 1) * num_val_samples:]],\n",
    "        axis=0)\n",
    "    partial_train_targets = np.concatenate(\n",
    "        [train_targets[:i * num_val_samples],\n",
    "         train_targets[(i + 1) * num_val_samples:]],\n",
    "        axis=0)\n",
    "\n",
    "    model = build_model()\n",
    "    history = model.fit(partial_train_data, partial_train_targets,\n",
    "                        validation_data=(val_data, val_targets),\n",
    "                        epochs=num_epochs, batch_size=1, verbose=0)\n",
    "    mse_history = history.history['loss']\n",
    "    all_mse_histories.append(mse_history)\n"
   ]
  },
  {
   "cell_type": "code",
   "execution_count": 5,
   "metadata": {},
   "outputs": [
    {
     "data": {
      "image/png": "[encoded data removed]",
      "text/plain": [
       "<matplotlib.figure.Figure at 0x117901da0>"
      ]
     },
     "metadata": {},
     "output_type": "display_data"
    }
   ],
   "source": [
    "average_mse_history = [\n",
    "    np.mean([x[i] for x in all_mse_histories]) for i in range(num_epochs)]\n",
    "\n",
    "plt.plot(range(1, len(average_mse_history) + 1), average_mse_history)\n",
    "plt.xlabel('Epochs')\n",
    "plt.ylabel('Validation MSE')\n",
    "plt.show()"
   ]
  },
  {
   "cell_type": "markdown",
   "metadata": {},
   "source": [
    "#### add number of epochs"
   ]
  },
  {
   "cell_type": "code",
   "execution_count": 6,
   "metadata": {},
   "outputs": [
    {
     "name": "stdout",
     "output_type": "stream",
     "text": [
      "processing fold # 0\n",
      "processing fold # 1\n",
      "processing fold # 2\n",
      "processing fold # 3\n",
      "processing fold # 4\n",
      "processing fold # 5\n",
      "processing fold # 6\n",
      "processing fold # 7\n",
      "processing fold # 8\n",
      "processing fold # 9\n"
     ]
    }
   ],
   "source": [
    "k=10\n",
    "num_val_samples = len(train_data) // k\n",
    "num_epochs = 100\n",
    "all_mse_histories = []\n",
    "for i in range(k):\n",
    "    print('processing fold #', i)\n",
    "    val_data = train_data[i * num_val_samples: (i + 1) * num_val_samples]\n",
    "    val_targets = train_targets[i * num_val_samples: (i + 1) * num_val_samples]\n",
    "    partial_train_data = np.concatenate(\n",
    "        [train_data[:i * num_val_samples],\n",
    "         train_data[(i + 1) * num_val_samples:]],\n",
    "        axis=0)\n",
    "    partial_train_targets = np.concatenate(\n",
    "        [train_targets[:i * num_val_samples],\n",
    "         train_targets[(i + 1) * num_val_samples:]],\n",
    "        axis=0)\n",
    "\n",
    "    model = build_model()\n",
    "    history = model.fit(partial_train_data, partial_train_targets,\n",
    "                        validation_data=(val_data, val_targets),\n",
    "                        epochs=num_epochs, batch_size=1, verbose=0)\n",
    "    mse_history = history.history['loss']\n",
    "    all_mse_histories.append(mse_history)"
   ]
  },
  {
   "cell_type": "code",
   "execution_count": 7,
   "metadata": {},
   "outputs": [
    {
     "data": {
      "image/png": "[encoded data removed]",
      "text/plain": [
       "<matplotlib.figure.Figure at 0x1179016d8>"
      ]
     },
     "metadata": {},
     "output_type": "display_data"
    }
   ],
   "source": [
    "average_mse_history = [\n",
    "    np.mean([x[i] for x in all_mse_histories]) for i in range(num_epochs)]\n",
    "\n",
    "plt.plot(range(1, len(average_mse_history) + 1), average_mse_history)\n",
    "plt.xlabel('Epochs')\n",
    "plt.ylabel('Validation MSE')\n",
    "plt.show()"
   ]
  },
  {
   "cell_type": "markdown",
   "metadata": {},
   "source": [
    "#### Model 2: with dropout"
   ]
  },
  {
   "cell_type": "code",
   "execution_count": 8,
   "metadata": {
    "collapsed": true
   },
   "outputs": [],
   "source": [
    "def build_model():\n",
    "    model = models.Sequential()\n",
    "    model.add(layers.Dense(64, activation='relu',\n",
    "                           input_shape=(train_data.shape[1],)))\n",
    "    model.add(layers.Dropout(0.5))\n",
    "    model.add(layers.Dense(64, activation='relu'))\n",
    "    model.add(layers.Dropout(0.5))\n",
    "    model.add(layers.Dense(64, activation='relu'))\n",
    "    model.add(layers.Dropout(0.5))\n",
    "    model.add(layers.Dense(1))\n",
    "    model.compile(optimizer='rmsprop', loss='mse')\n",
    "    return model"
   ]
  },
  {
   "cell_type": "code",
   "execution_count": 9,
   "metadata": {},
   "outputs": [
    {
     "name": "stdout",
     "output_type": "stream",
     "text": [
      "processing fold # 0\n",
      "processing fold # 1\n",
      "processing fold # 2\n",
      "processing fold # 3\n",
      "processing fold # 4\n",
      "processing fold # 5\n",
      "processing fold # 6\n",
      "processing fold # 7\n",
      "processing fold # 8\n",
      "processing fold # 9\n"
     ]
    }
   ],
   "source": [
    "k=10\n",
    "num_val_samples = len(train_data) // k\n",
    "num_epochs = 20\n",
    "all_mse_histories = []\n",
    "for i in range(k):\n",
    "    print('processing fold #', i)\n",
    "    val_data = train_data[i * num_val_samples: (i + 1) * num_val_samples]\n",
    "    val_targets = train_targets[i * num_val_samples: (i + 1) * num_val_samples]\n",
    "    partial_train_data = np.concatenate(\n",
    "        [train_data[:i * num_val_samples],\n",
    "         train_data[(i + 1) * num_val_samples:]],\n",
    "        axis=0)\n",
    "    partial_train_targets = np.concatenate(\n",
    "        [train_targets[:i * num_val_samples],\n",
    "         train_targets[(i + 1) * num_val_samples:]],\n",
    "        axis=0)\n",
    "\n",
    "    model = build_model()\n",
    "    history = model.fit(partial_train_data, partial_train_targets,\n",
    "                        validation_data=(val_data, val_targets),\n",
    "                        epochs=num_epochs, batch_size=1, verbose=0)\n",
    "    mse_history = history.history['loss']\n",
    "    all_mse_histories.append(mse_history)"
   ]
  },
  {
   "cell_type": "code",
   "execution_count": 10,
   "metadata": {},
   "outputs": [
    {
     "data": {
      "image/png": "[encoded data removed]",
      "text/plain": [
       "<matplotlib.figure.Figure at 0x1178ba9e8>"
      ]
     },
     "metadata": {},
     "output_type": "display_data"
    }
   ],
   "source": [
    "average_mse_history = [\n",
    "    np.mean([x[i] for x in all_mse_histories]) for i in range(num_epochs)]\n",
    "\n",
    "plt.plot(range(1, len(average_mse_history) + 1), average_mse_history)\n",
    "plt.xlabel('Epochs')\n",
    "plt.ylabel('Validation MSE')\n",
    "plt.show()"
   ]
  },
  {
   "cell_type": "code",
   "execution_count": 11,
   "metadata": {},
   "outputs": [
    {
     "data": {
      "text/plain": [
       "31.92291634845277"
      ]
     },
     "execution_count": 11,
     "metadata": {},
     "output_type": "execute_result"
    }
   ],
   "source": [
    "average_mse_history[-1]"
   ]
  },
  {
   "cell_type": "markdown",
   "metadata": {},
   "source": [
    "#### Model 3: add layers"
   ]
  },
  {
   "cell_type": "code",
   "execution_count": 12,
   "metadata": {
    "collapsed": true
   },
   "outputs": [],
   "source": [
    "def build_model():\n",
    "    model = models.Sequential()\n",
    "    model.add(layers.Dense(32, activation='relu',\n",
    "                           input_shape=(train_data.shape[1],)))\n",
    "    model.add(layers.Dense(32, activation='relu'))\n",
    "    model.add(layers.Dense(32, activation='relu'))\n",
    "    model.add(layers.Dense(32, activation='relu'))\n",
    "    model.add(layers.Dense(1))\n",
    "    model.compile(optimizer='rmsprop', loss='mse')\n",
    "    return model"
   ]
  },
  {
   "cell_type": "code",
   "execution_count": 13,
   "metadata": {},
   "outputs": [
    {
     "name": "stdout",
     "output_type": "stream",
     "text": [
      "processing fold # 0\n",
      "processing fold # 1\n",
      "processing fold # 2\n",
      "processing fold # 3\n",
      "processing fold # 4\n",
      "processing fold # 5\n",
      "processing fold # 6\n",
      "processing fold # 7\n",
      "processing fold # 8\n",
      "processing fold # 9\n"
     ]
    }
   ],
   "source": [
    "k=10\n",
    "num_val_samples = len(train_data) // k\n",
    "num_epochs = 100\n",
    "all_mse_histories = []\n",
    "for i in range(k):\n",
    "    print('processing fold #', i)\n",
    "    val_data = train_data[i * num_val_samples: (i + 1) * num_val_samples]\n",
    "    val_targets = train_targets[i * num_val_samples: (i + 1) * num_val_samples]\n",
    "    partial_train_data = np.concatenate(\n",
    "        [train_data[:i * num_val_samples],\n",
    "         train_data[(i + 1) * num_val_samples:]],\n",
    "        axis=0)\n",
    "    partial_train_targets = np.concatenate(\n",
    "        [train_targets[:i * num_val_samples],\n",
    "         train_targets[(i + 1) * num_val_samples:]],\n",
    "        axis=0)\n",
    "\n",
    "    model = build_model()\n",
    "    history = model.fit(partial_train_data, partial_train_targets,\n",
    "                        validation_data=(val_data, val_targets),\n",
    "                        epochs=num_epochs, batch_size=1, verbose=0)\n",
    "    mse_history = history.history['loss']\n",
    "    all_mse_histories.append(mse_history)"
   ]
  },
  {
   "cell_type": "code",
   "execution_count": 14,
   "metadata": {},
   "outputs": [
    {
     "data": {
      "image/png": "[encoded data removed]",
      "text/plain": [
       "<matplotlib.figure.Figure at 0x11de69a90>"
      ]
     },
     "metadata": {},
     "output_type": "display_data"
    }
   ],
   "source": [
    "average_mse_history = [\n",
    "    np.mean([x[i] for x in all_mse_histories]) for i in range(num_epochs)]\n",
    "\n",
    "plt.plot(range(1, len(average_mse_history) + 1), average_mse_history)\n",
    "plt.xlabel('Epochs')\n",
    "plt.ylabel('Validation MSE')\n",
    "plt.show()"
   ]
  },
  {
   "cell_type": "code",
   "execution_count": 15,
   "metadata": {},
   "outputs": [
    {
     "data": {
      "text/plain": [
       "5.4921516806207915"
      ]
     },
     "execution_count": 15,
     "metadata": {},
     "output_type": "execute_result"
    }
   ],
   "source": [
    "average_mse_history[-1]"
   ]
  },
  {
   "cell_type": "code",
   "execution_count": 16,
   "metadata": {},
   "outputs": [
    {
     "name": "stdout",
     "output_type": "stream",
     "text": [
      "Epoch 1/100\n",
      "404/404 [==============================] - 1s 3ms/step - loss: 318.1209\n",
      "Epoch 2/100\n",
      "404/404 [==============================] - 0s 1ms/step - loss: 53.4772\n",
      "Epoch 3/100\n",
      "404/404 [==============================] - 0s 1ms/step - loss: 24.4718\n",
      "Epoch 4/100\n",
      "404/404 [==============================] - ETA: 0s - loss: 18.33 - 0s 994us/step - loss: 19.5916\n",
      "Epoch 5/100\n",
      "404/404 [==============================] - 0s 1ms/step - loss: 17.3904\n",
      "Epoch 6/100\n",
      "404/404 [==============================] - 0s 920us/step - loss: 15.7416\n",
      "Epoch 7/100\n",
      "404/404 [==============================] - 0s 964us/step - loss: 14.4685\n",
      "Epoch 8/100\n",
      "404/404 [==============================] - 0s 916us/step - loss: 13.7952\n",
      "Epoch 9/100\n",
      "404/404 [==============================] - 0s 919us/step - loss: 12.6399\n",
      "Epoch 10/100\n",
      "404/404 [==============================] - 0s 914us/step - loss: 12.1902\n",
      "Epoch 11/100\n",
      "404/404 [==============================] - 0s 912us/step - loss: 11.6834\n",
      "Epoch 12/100\n",
      "404/404 [==============================] - 0s 922us/step - loss: 11.3652\n",
      "Epoch 13/100\n",
      "404/404 [==============================] - 0s 915us/step - loss: 10.8292\n",
      "Epoch 14/100\n",
      "404/404 [==============================] - 0s 938us/step - loss: 10.9502\n",
      "Epoch 15/100\n",
      "404/404 [==============================] - 0s 949us/step - loss: 10.2503\n",
      "Epoch 16/100\n",
      "404/404 [==============================] - 1s 1ms/step - loss: 10.2957\n",
      "Epoch 17/100\n",
      "404/404 [==============================] - 0s 1ms/step - loss: 9.9684\n",
      "Epoch 18/100\n",
      "404/404 [==============================] - 0s 1ms/step - loss: 10.2268\n",
      "Epoch 19/100\n",
      "404/404 [==============================] - 0s 1ms/step - loss: 9.9227\n",
      "Epoch 20/100\n",
      "404/404 [==============================] - 0s 956us/step - loss: 9.8804\n",
      "Epoch 21/100\n",
      "404/404 [==============================] - 0s 953us/step - loss: 9.6253\n",
      "Epoch 22/100\n",
      "404/404 [==============================] - 0s 953us/step - loss: 9.6387\n",
      "Epoch 23/100\n",
      "404/404 [==============================] - 0s 959us/step - loss: 8.9143\n",
      "Epoch 24/100\n",
      "404/404 [==============================] - 0s 959us/step - loss: 8.9491\n",
      "Epoch 25/100\n",
      "404/404 [==============================] - 0s 976us/step - loss: 8.9450\n",
      "Epoch 26/100\n",
      "404/404 [==============================] - 0s 1ms/step - loss: 8.7501\n",
      "Epoch 27/100\n",
      "404/404 [==============================] - 0s 972us/step - loss: 8.7095\n",
      "Epoch 28/100\n",
      "404/404 [==============================] - 0s 956us/step - loss: 8.8225\n",
      "Epoch 29/100\n",
      "404/404 [==============================] - 0s 957us/step - loss: 8.4362\n",
      "Epoch 30/100\n",
      "404/404 [==============================] - 0s 952us/step - loss: 8.2626\n",
      "Epoch 31/100\n",
      "404/404 [==============================] - 0s 949us/step - loss: 8.4951\n",
      "Epoch 32/100\n",
      "404/404 [==============================] - 0s 1ms/step - loss: 8.4263\n",
      "Epoch 33/100\n",
      "404/404 [==============================] - 0s 1ms/step - loss: 8.3500\n",
      "Epoch 34/100\n",
      "404/404 [==============================] - 0s 981us/step - loss: 8.2589\n",
      "Epoch 35/100\n",
      "404/404 [==============================] - 0s 956us/step - loss: 8.0920\n",
      "Epoch 36/100\n",
      "404/404 [==============================] - 0s 1ms/step - loss: 7.8512\n",
      "Epoch 37/100\n",
      "404/404 [==============================] - 0s 1ms/step - loss: 7.6364\n",
      "Epoch 38/100\n",
      "404/404 [==============================] - 0s 1ms/step - loss: 7.7556\n",
      "Epoch 39/100\n",
      "404/404 [==============================] - 0s 932us/step - loss: 7.3676\n",
      "Epoch 40/100\n",
      "404/404 [==============================] - 0s 983us/step - loss: 7.7001\n",
      "Epoch 41/100\n",
      "404/404 [==============================] - 0s 1ms/step - loss: 7.5894\n",
      "Epoch 42/100\n",
      "404/404 [==============================] - 0s 1ms/step - loss: 7.4872\n",
      "Epoch 43/100\n",
      "404/404 [==============================] - 0s 962us/step - loss: 7.5278\n",
      "Epoch 44/100\n",
      "404/404 [==============================] - 0s 961us/step - loss: 7.2648\n",
      "Epoch 45/100\n",
      "404/404 [==============================] - 0s 937us/step - loss: 7.1843\n",
      "Epoch 46/100\n",
      "404/404 [==============================] - 0s 1ms/step - loss: 7.2539\n",
      "Epoch 47/100\n",
      "404/404 [==============================] - 0s 927us/step - loss: 7.2282\n",
      "Epoch 48/100\n",
      "404/404 [==============================] - 0s 993us/step - loss: 7.4438\n",
      "Epoch 49/100\n",
      "404/404 [==============================] - 0s 1ms/step - loss: 7.1676\n",
      "Epoch 50/100\n",
      "404/404 [==============================] - 0s 1ms/step - loss: 6.4104\n",
      "Epoch 51/100\n",
      "404/404 [==============================] - 0s 1ms/step - loss: 6.6739\n",
      "Epoch 52/100\n",
      "404/404 [==============================] - 1s 1ms/step - loss: 7.1036\n",
      "Epoch 53/100\n",
      "404/404 [==============================] - 1s 1ms/step - loss: 7.1008\n",
      "Epoch 54/100\n",
      "404/404 [==============================] - 0s 975us/step - loss: 6.9845\n",
      "Epoch 55/100\n",
      "404/404 [==============================] - 0s 998us/step - loss: 6.8907\n",
      "Epoch 56/100\n",
      "404/404 [==============================] - 0s 930us/step - loss: 6.8000\n",
      "Epoch 57/100\n",
      "404/404 [==============================] - 0s 988us/step - loss: 6.4550\n",
      "Epoch 58/100\n",
      "404/404 [==============================] - 0s 1ms/step - loss: 6.6789\n",
      "Epoch 59/100\n",
      "404/404 [==============================] - 0s 1ms/step - loss: 6.4313\n",
      "Epoch 60/100\n",
      "404/404 [==============================] - 0s 1ms/step - loss: 6.6436\n",
      "Epoch 61/100\n",
      "404/404 [==============================] - 0s 1ms/step - loss: 6.2195\n",
      "Epoch 62/100\n",
      "404/404 [==============================] - 0s 1ms/step - loss: 6.3466\n",
      "Epoch 63/100\n",
      "404/404 [==============================] - 0s 983us/step - loss: 6.1694\n",
      "Epoch 64/100\n",
      "404/404 [==============================] - 0s 1ms/step - loss: 6.3205\n",
      "Epoch 65/100\n",
      "404/404 [==============================] - 0s 1ms/step - loss: 6.2294\n",
      "Epoch 66/100\n",
      "404/404 [==============================] - 0s 1ms/step - loss: 6.3313\n",
      "Epoch 67/100\n",
      "404/404 [==============================] - 0s 1ms/step - loss: 6.3013\n",
      "Epoch 68/100\n",
      "404/404 [==============================] - 0s 1ms/step - loss: 6.1465\n",
      "Epoch 69/100\n",
      "404/404 [==============================] - 0s 1ms/step - loss: 6.2428\n",
      "Epoch 70/100\n",
      "404/404 [==============================] - 1s 1ms/step - loss: 6.2798\n",
      "Epoch 71/100\n",
      "404/404 [==============================] - 1s 1ms/step - loss: 6.1453\n",
      "Epoch 72/100\n",
      "404/404 [==============================] - 0s 1ms/step - loss: 6.1007\n",
      "Epoch 73/100\n",
      "404/404 [==============================] - 0s 1ms/step - loss: 5.9571\n",
      "Epoch 74/100\n",
      "404/404 [==============================] - 0s 1ms/step - loss: 6.3201\n",
      "Epoch 75/100\n",
      "404/404 [==============================] - 0s 1ms/step - loss: 6.0205\n",
      "Epoch 76/100\n",
      "404/404 [==============================] - 0s 1ms/step - loss: 5.7156\n",
      "Epoch 77/100\n",
      "404/404 [==============================] - 1s 1ms/step - loss: 5.8959\n",
      "Epoch 78/100\n",
      "404/404 [==============================] - 0s 1ms/step - loss: 5.5772\n",
      "Epoch 79/100\n",
      "404/404 [==============================] - 0s 1ms/step - loss: 5.9946\n",
      "Epoch 80/100\n",
      "404/404 [==============================] - 0s 1ms/step - loss: 5.8612\n",
      "Epoch 81/100\n",
      "404/404 [==============================] - 0s 1ms/step - loss: 5.8106\n",
      "Epoch 82/100\n",
      "404/404 [==============================] - 0s 1ms/step - loss: 5.7030\n",
      "Epoch 83/100\n",
      "404/404 [==============================] - 1s 2ms/step - loss: 5.4852\n",
      "Epoch 84/100\n",
      "404/404 [==============================] - 0s 1ms/step - loss: 5.7764\n",
      "Epoch 85/100\n",
      "404/404 [==============================] - 1s 1ms/step - loss: 5.7493\n",
      "Epoch 86/100\n",
      "404/404 [==============================] - 0s 1ms/step - loss: 5.3626\n",
      "Epoch 87/100\n",
      "404/404 [==============================] - 1s 1ms/step - loss: 5.5160\n",
      "Epoch 88/100\n",
      "404/404 [==============================] - 0s 1ms/step - loss: 5.7563\n",
      "Epoch 89/100\n",
      "404/404 [==============================] - 0s 1ms/step - loss: 5.7503\n",
      "Epoch 90/100\n",
      "404/404 [==============================] - 0s 1ms/step - loss: 5.5441\n",
      "Epoch 91/100\n",
      "404/404 [==============================] - 0s 1ms/step - loss: 5.4475\n",
      "Epoch 92/100\n",
      "404/404 [==============================] - 0s 1ms/step - loss: 5.2535\n",
      "Epoch 93/100\n",
      "404/404 [==============================] - 1s 1ms/step - loss: 5.2695\n",
      "Epoch 94/100\n",
      "404/404 [==============================] - 0s 1ms/step - loss: 5.6045\n",
      "Epoch 95/100\n",
      "404/404 [==============================] - 0s 1ms/step - loss: 5.3881\n",
      "Epoch 96/100\n",
      "404/404 [==============================] - 0s 987us/step - loss: 5.1344\n",
      "Epoch 97/100\n",
      "404/404 [==============================] - 0s 980us/step - loss: 5.5443\n",
      "Epoch 98/100\n"
     ]
    },
    {
     "name": "stdout",
     "output_type": "stream",
     "text": [
      "404/404 [==============================] - 0s 1ms/step - loss: 5.3969\n",
      "Epoch 99/100\n",
      "404/404 [==============================] - 0s 1ms/step - loss: 4.9456\n",
      "Epoch 100/100\n",
      "404/404 [==============================] - ETA: 0s - loss: 5.592 - 0s 1ms/step - loss: 5.3186\n"
     ]
    }
   ],
   "source": [
    "model = build_model()\n",
    "history = model.fit(train_data, train_targets, epochs=num_epochs, batch_size=1)"
   ]
  },
  {
   "cell_type": "code",
   "execution_count": 18,
   "metadata": {},
   "outputs": [
    {
     "name": "stdout",
     "output_type": "stream",
     "text": [
      "102/102 [==============================] - 0s 3ms/step\n"
     ]
    },
    {
     "data": {
      "text/plain": [
       "15.696518692315793"
      ]
     },
     "execution_count": 18,
     "metadata": {},
     "output_type": "execute_result"
    }
   ],
   "source": [
    "test_mse_score = model.evaluate(test_data, test_targets)\n",
    "test_mse_score"
   ]
  },
  {
   "cell_type": "markdown",
   "metadata": {},
   "source": [
    "#### Model 4: add regularizer"
   ]
  },
  {
   "cell_type": "code",
   "execution_count": 21,
   "metadata": {
    "collapsed": true
   },
   "outputs": [],
   "source": [
    "from keras import regularizers\n",
    "def build_model():\n",
    "    model = models.Sequential()\n",
    "    model.add(layers.Dense(32, activation='relu', kernel_regularizer=regularizers.l1(0.001),\n",
    "                           input_shape=(train_data.shape[1],)))\n",
    "    model.add(layers.Dense(32, activation='relu', kernel_regularizer=regularizers.l1(0.001)))\n",
    "    model.add(layers.Dense(32, activation='relu', kernel_regularizer=regularizers.l1(0.001)))\n",
    "    model.add(layers.Dense(32, activation='relu', kernel_regularizer=regularizers.l1(0.001)))\n",
    "    model.add(layers.Dense(1))\n",
    "    model.compile(optimizer='rmsprop', loss='mse')\n",
    "    return model"
   ]
  },
  {
   "cell_type": "code",
   "execution_count": 22,
   "metadata": {},
   "outputs": [
    {
     "name": "stdout",
     "output_type": "stream",
     "text": [
      "processing fold # 0\n",
      "processing fold # 1\n",
      "processing fold # 2\n",
      "processing fold # 3\n",
      "processing fold # 4\n",
      "processing fold # 5\n",
      "processing fold # 6\n",
      "processing fold # 7\n",
      "processing fold # 8\n",
      "processing fold # 9\n"
     ]
    }
   ],
   "source": [
    "k=10\n",
    "num_val_samples = len(train_data) // k\n",
    "num_epochs = 100\n",
    "all_mse_histories = []\n",
    "for i in range(k):\n",
    "    print('processing fold #', i)\n",
    "    val_data = train_data[i * num_val_samples: (i + 1) * num_val_samples]\n",
    "    val_targets = train_targets[i * num_val_samples: (i + 1) * num_val_samples]\n",
    "    partial_train_data = np.concatenate(\n",
    "        [train_data[:i * num_val_samples],\n",
    "         train_data[(i + 1) * num_val_samples:]],\n",
    "        axis=0)\n",
    "    partial_train_targets = np.concatenate(\n",
    "        [train_targets[:i * num_val_samples],\n",
    "         train_targets[(i + 1) * num_val_samples:]],\n",
    "        axis=0)\n",
    "\n",
    "    model = build_model()\n",
    "    history = model.fit(partial_train_data, partial_train_targets,\n",
    "                        validation_data=(val_data, val_targets),\n",
    "                        epochs=num_epochs, batch_size=1, verbose=0)\n",
    "    mse_history = history.history['loss']\n",
    "    all_mse_histories.append(mse_history)"
   ]
  },
  {
   "cell_type": "code",
   "execution_count": 23,
   "metadata": {},
   "outputs": [
    {
     "data": {
      "image/png": "[encoded data removed]",
      "text/plain": [
       "<matplotlib.figure.Figure at 0x11fad3470>"
      ]
     },
     "metadata": {},
     "output_type": "display_data"
    }
   ],
   "source": [
    "average_mse_history = [\n",
    "    np.mean([x[i] for x in all_mse_histories]) for i in range(num_epochs)]\n",
    "\n",
    "plt.plot(range(1, len(average_mse_history) + 1), average_mse_history)\n",
    "plt.xlabel('Epochs')\n",
    "plt.ylabel('Validation MSE')\n",
    "plt.show()"
   ]
  },
  {
   "cell_type": "code",
   "execution_count": 25,
   "metadata": {},
   "outputs": [
    {
     "data": {
      "text/plain": [
       "4.314700061451276"
      ]
     },
     "execution_count": 25,
     "metadata": {},
     "output_type": "execute_result"
    }
   ],
   "source": [
    "min(average_mse_history)"
   ]
  },
  {
   "cell_type": "markdown",
   "metadata": {},
   "source": [
    "From the results above, it can be seen that the model with a regularizater and 5 layers will give the minimum MSE."
   ]
  },
  {
   "cell_type": "code",
   "execution_count": null,
   "metadata": {
    "collapsed": true
   },
   "outputs": [],
   "source": []
  }
 ],
 "metadata": {
  "kernelspec": {
   "display_name": "Python 3",
   "language": "python",
   "name": "python3"
  },
  "language_info": {
   "codemirror_mode": {
    "name": "ipython",
    "version": 3
   },
   "file_extension": ".py",
   "mimetype": "text/x-python",
   "name": "python",
   "nbconvert_exporter": "python",
   "pygments_lexer": "ipython3",
   "version": "3.6.3"
  }
 },
 "nbformat": 4,
 "nbformat_minor": 2
}
