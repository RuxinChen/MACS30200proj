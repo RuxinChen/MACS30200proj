{
 "cells": [
  {
   "cell_type": "markdown",
   "metadata": {},
   "source": [
    "## PS3 Part 2"
   ]
  },
  {
   "cell_type": "code",
   "execution_count": 1,
   "metadata": {},
   "outputs": [
    {
     "name": "stderr",
     "output_type": "stream",
     "text": [
      "/Users/ivychen/anaconda3/lib/python3.6/site-packages/h5py/__init__.py:34: FutureWarning: Conversion of the second argument of issubdtype from `float` to `np.floating` is deprecated. In future, it will be treated as `np.float64 == np.dtype(float).type`.\n",
      "  from ._conv import register_converters as _register_converters\n",
      "Using TensorFlow backend.\n"
     ]
    }
   ],
   "source": [
    "import pandas as pd\n",
    "import numpy as np \n",
    "import random \n",
    "from keras.datasets import mnist\n",
    "import matplotlib.pyplot as plt\n",
    "from keras import models\n",
    "from keras import layers\n",
    "from keras.layers import Dense, Dropout\n",
    "from keras.utils import to_categorical\n",
    "from sklearn.model_selection import train_test_split\n",
    "%matplotlib inline\n",
    "\n",
    "from keras.datasets import boston_housing\n",
    "\n",
    "(train_data, train_targets), (test_data, test_targets) =boston_housing.load_data()"
   ]
  },
  {
   "cell_type": "code",
   "execution_count": 2,
   "metadata": {
    "collapsed": true
   },
   "outputs": [],
   "source": [
    "mean = train_data.mean(axis=0)\n",
    "train_data -= mean\n",
    "std = train_data.std(axis=0)\n",
    "train_data /= std\n",
    "\n",
    "test_data -= mean\n",
    "test_data /= std"
   ]
  },
  {
   "cell_type": "markdown",
   "metadata": {},
   "source": [
    "#### Model 1"
   ]
  },
  {
   "cell_type": "code",
   "execution_count": 3,
   "metadata": {
    "collapsed": true
   },
   "outputs": [],
   "source": [
    "def build_model1():\n",
    "    model = models.Sequential()\n",
    "    model.add(layers.Dense(64, activation='relu',\n",
    "                           input_shape=(train_data.shape[1],)))\n",
    "    model.add(layers.Dense(64, activation='relu'))\n",
    "    model.add(layers.Dense(1))\n",
    "    model.compile(optimizer='rmsprop', loss='mse')\n",
    "    return model"
   ]
  },
  {
   "cell_type": "code",
   "execution_count": 4,
   "metadata": {},
   "outputs": [
    {
     "name": "stdout",
     "output_type": "stream",
     "text": [
      "processing fold # 0\n",
      "processing fold # 1\n",
      "processing fold # 2\n",
      "processing fold # 3\n",
      "processing fold # 4\n",
      "processing fold # 5\n",
      "processing fold # 6\n",
      "processing fold # 7\n",
      "processing fold # 8\n",
      "processing fold # 9\n"
     ]
    }
   ],
   "source": [
    "k=10\n",
    "num_val_samples = len(train_data) // k\n",
    "num_epochs = 20\n",
    "all_mse_histories1 = []\n",
    "for i in range(k):\n",
    "    print('processing fold #', i)\n",
    "    val_data = train_data[i * num_val_samples: (i + 1) * num_val_samples]\n",
    "    val_targets = train_targets[i * num_val_samples: (i + 1) * num_val_samples]\n",
    "    partial_train_data = np.concatenate(\n",
    "        [train_data[:i * num_val_samples],\n",
    "         train_data[(i + 1) * num_val_samples:]],\n",
    "        axis=0)\n",
    "    partial_train_targets = np.concatenate(\n",
    "        [train_targets[:i * num_val_samples],\n",
    "         train_targets[(i + 1) * num_val_samples:]],\n",
    "        axis=0)\n",
    "\n",
    "    model = build_model1()\n",
    "    history = model.fit(partial_train_data, partial_train_targets,\n",
    "                        validation_data=(val_data, val_targets),\n",
    "                        epochs=num_epochs, batch_size=1, verbose=0)\n",
    "    mse_history = history.history['val_loss']\n",
    "    all_mse_histories1.append(mse_history)\n"
   ]
  },
  {
   "cell_type": "code",
   "execution_count": 5,
   "metadata": {},
   "outputs": [
    {
     "data": {
      "image/png": "[encoded data removed]",
      "text/plain": [
       "<matplotlib.figure.Figure at 0x12467f470>"
      ]
     },
     "metadata": {},
     "output_type": "display_data"
    }
   ],
   "source": [
    "average_mse_history1 = [\n",
    "    np.mean([x[i] for x in all_mse_histories1]) for i in range(num_epochs)]\n",
    "\n",
    "plt.plot(range(1, len(average_mse_history1) + 1), average_mse_history1)\n",
    "plt.xlabel('Epochs')\n",
    "plt.ylabel('Validation MSE')\n",
    "plt.show()"
   ]
  },
  {
   "cell_type": "code",
   "execution_count": 6,
   "metadata": {},
   "outputs": [
    {
     "data": {
      "text/plain": [
       "13.177965844935988"
      ]
     },
     "execution_count": 6,
     "metadata": {},
     "output_type": "execute_result"
    }
   ],
   "source": [
    "min(average_mse_history1)"
   ]
  },
  {
   "cell_type": "markdown",
   "metadata": {},
   "source": [
    "#### add number of epochs"
   ]
  },
  {
   "cell_type": "code",
   "execution_count": 7,
   "metadata": {},
   "outputs": [
    {
     "name": "stdout",
     "output_type": "stream",
     "text": [
      "processing fold # 0\n",
      "processing fold # 1\n",
      "processing fold # 2\n",
      "processing fold # 3\n",
      "processing fold # 4\n",
      "processing fold # 5\n",
      "processing fold # 6\n",
      "processing fold # 7\n",
      "processing fold # 8\n",
      "processing fold # 9\n"
     ]
    }
   ],
   "source": [
    "k=10\n",
    "num_val_samples = len(train_data) // k\n",
    "num_epochs = 100\n",
    "all_mse_histories11 = []\n",
    "for i in range(k):\n",
    "    print('processing fold #', i)\n",
    "    val_data = train_data[i * num_val_samples: (i + 1) * num_val_samples]\n",
    "    val_targets = train_targets[i * num_val_samples: (i + 1) * num_val_samples]\n",
    "    partial_train_data = np.concatenate(\n",
    "        [train_data[:i * num_val_samples],\n",
    "         train_data[(i + 1) * num_val_samples:]],\n",
    "        axis=0)\n",
    "    partial_train_targets = np.concatenate(\n",
    "        [train_targets[:i * num_val_samples],\n",
    "         train_targets[(i + 1) * num_val_samples:]],\n",
    "        axis=0)\n",
    "\n",
    "    model = build_model1()\n",
    "    history = model.fit(partial_train_data, partial_train_targets,\n",
    "                        validation_data=(val_data, val_targets),\n",
    "                        epochs=num_epochs, batch_size=1, verbose=0)\n",
    "    mse_history = history.history['val_loss']\n",
    "    all_mse_histories11.append(mse_history)"
   ]
  },
  {
   "cell_type": "code",
   "execution_count": 8,
   "metadata": {},
   "outputs": [
    {
     "data": {
      "image/png": "[encoded data removed]",
      "text/plain": [
       "<matplotlib.figure.Figure at 0x12467fd68>"
      ]
     },
     "metadata": {},
     "output_type": "display_data"
    }
   ],
   "source": [
    "average_mse_history11 = [\n",
    "    np.mean([x[i] for x in all_mse_histories11]) for i in range(num_epochs)]\n",
    "\n",
    "plt.plot(range(1, len(average_mse_history11) + 1), average_mse_history11)\n",
    "plt.xlabel('Epochs')\n",
    "plt.ylabel('Validation MSE')\n",
    "plt.show()"
   ]
  },
  {
   "cell_type": "code",
   "execution_count": 9,
   "metadata": {},
   "outputs": [
    {
     "data": {
      "text/plain": [
       "10.206165905711458"
      ]
     },
     "execution_count": 9,
     "metadata": {},
     "output_type": "execute_result"
    }
   ],
   "source": [
    "min(average_mse_history11)"
   ]
  },
  {
   "cell_type": "markdown",
   "metadata": {},
   "source": [
    "#### Model 2: with dropout"
   ]
  },
  {
   "cell_type": "code",
   "execution_count": 10,
   "metadata": {
    "collapsed": true
   },
   "outputs": [],
   "source": [
    "def build_model2():\n",
    "    model = models.Sequential()\n",
    "    model.add(layers.Dense(64, activation='relu',\n",
    "                           input_shape=(train_data.shape[1],)))\n",
    "    model.add(layers.Dropout(0.5))\n",
    "    model.add(layers.Dense(64, activation='relu'))\n",
    "    model.add(layers.Dropout(0.5))\n",
    "    model.add(layers.Dense(64, activation='relu'))\n",
    "    model.add(layers.Dropout(0.5))\n",
    "    model.add(layers.Dense(1))\n",
    "    model.compile(optimizer='rmsprop', loss='mse')\n",
    "    return model"
   ]
  },
  {
   "cell_type": "code",
   "execution_count": 11,
   "metadata": {},
   "outputs": [
    {
     "name": "stdout",
     "output_type": "stream",
     "text": [
      "processing fold # 0\n",
      "processing fold # 1\n",
      "processing fold # 2\n",
      "processing fold # 3\n",
      "processing fold # 4\n",
      "processing fold # 5\n",
      "processing fold # 6\n",
      "processing fold # 7\n",
      "processing fold # 8\n",
      "processing fold # 9\n"
     ]
    }
   ],
   "source": [
    "k=10\n",
    "num_val_samples = len(train_data) // k\n",
    "num_epochs = 100\n",
    "all_mse_histories2 = []\n",
    "for i in range(k):\n",
    "    print('processing fold #', i)\n",
    "    val_data = train_data[i * num_val_samples: (i + 1) * num_val_samples]\n",
    "    val_targets = train_targets[i * num_val_samples: (i + 1) * num_val_samples]\n",
    "    partial_train_data = np.concatenate(\n",
    "        [train_data[:i * num_val_samples],\n",
    "         train_data[(i + 1) * num_val_samples:]],\n",
    "        axis=0)\n",
    "    partial_train_targets = np.concatenate(\n",
    "        [train_targets[:i * num_val_samples],\n",
    "         train_targets[(i + 1) * num_val_samples:]],\n",
    "        axis=0)\n",
    "\n",
    "    model = build_model2()\n",
    "    history = model.fit(partial_train_data, partial_train_targets,\n",
    "                        validation_data=(val_data, val_targets),\n",
    "                        epochs=num_epochs, batch_size=1, verbose=0)\n",
    "    mse_history = history.history['val_loss']\n",
    "    all_mse_histories2.append(mse_history)"
   ]
  },
  {
   "cell_type": "code",
   "execution_count": 12,
   "metadata": {},
   "outputs": [
    {
     "data": {
      "image/png": "[encoded data removed]",
      "text/plain": [
       "<matplotlib.figure.Figure at 0x1279760f0>"
      ]
     },
     "metadata": {},
     "output_type": "display_data"
    }
   ],
   "source": [
    "average_mse_history2 = [\n",
    "    np.mean([x[i] for x in all_mse_histories2]) for i in range(num_epochs)]\n",
    "\n",
    "plt.plot(range(1, len(average_mse_history2) + 1), average_mse_history2)\n",
    "plt.xlabel('Epochs')\n",
    "plt.ylabel('Validation MSE')\n",
    "plt.show()"
   ]
  },
  {
   "cell_type": "code",
   "execution_count": 13,
   "metadata": {},
   "outputs": [
    {
     "data": {
      "text/plain": [
       "19.220060480832093"
      ]
     },
     "execution_count": 13,
     "metadata": {},
     "output_type": "execute_result"
    }
   ],
   "source": [
    "min(average_mse_history2)"
   ]
  },
  {
   "cell_type": "markdown",
   "metadata": {},
   "source": [
    "#### Model 3: add layers"
   ]
  },
  {
   "cell_type": "code",
   "execution_count": 14,
   "metadata": {
    "collapsed": true
   },
   "outputs": [],
   "source": [
    "def build_model3():\n",
    "    model = models.Sequential()\n",
    "    model.add(layers.Dense(32, activation='relu',\n",
    "                           input_shape=(train_data.shape[1],)))\n",
    "    model.add(layers.Dense(32, activation='relu'))\n",
    "    model.add(layers.Dense(32, activation='relu'))\n",
    "    model.add(layers.Dense(32, activation='relu'))\n",
    "    model.add(layers.Dense(1))\n",
    "    model.compile(optimizer='rmsprop', loss='mse')\n",
    "    return model"
   ]
  },
  {
   "cell_type": "code",
   "execution_count": 15,
   "metadata": {},
   "outputs": [
    {
     "name": "stdout",
     "output_type": "stream",
     "text": [
      "processing fold # 0\n",
      "processing fold # 1\n",
      "processing fold # 2\n",
      "processing fold # 3\n",
      "processing fold # 4\n",
      "processing fold # 5\n",
      "processing fold # 6\n",
      "processing fold # 7\n",
      "processing fold # 8\n",
      "processing fold # 9\n"
     ]
    }
   ],
   "source": [
    "k=10\n",
    "num_val_samples = len(train_data) // k\n",
    "num_epochs = 100\n",
    "all_mse_histories3 = []\n",
    "for i in range(k):\n",
    "    print('processing fold #', i)\n",
    "    val_data = train_data[i * num_val_samples: (i + 1) * num_val_samples]\n",
    "    val_targets = train_targets[i * num_val_samples: (i + 1) * num_val_samples]\n",
    "    partial_train_data = np.concatenate(\n",
    "        [train_data[:i * num_val_samples],\n",
    "         train_data[(i + 1) * num_val_samples:]],\n",
    "        axis=0)\n",
    "    partial_train_targets = np.concatenate(\n",
    "        [train_targets[:i * num_val_samples],\n",
    "         train_targets[(i + 1) * num_val_samples:]],\n",
    "        axis=0)\n",
    "\n",
    "    model = build_model3()\n",
    "    history = model.fit(partial_train_data, partial_train_targets,\n",
    "                        validation_data=(val_data, val_targets),\n",
    "                        epochs=num_epochs, batch_size=1, verbose=0)\n",
    "    mse_history = history.history['val_loss']\n",
    "    all_mse_histories3.append(mse_history)"
   ]
  },
  {
   "cell_type": "code",
   "execution_count": 16,
   "metadata": {},
   "outputs": [
    {
     "data": {
      "image/png": "[encoded data removed]",
      "text/plain": [
       "<matplotlib.figure.Figure at 0x12b0e9128>"
      ]
     },
     "metadata": {},
     "output_type": "display_data"
    }
   ],
   "source": [
    "average_mse_history3 = [\n",
    "    np.mean([x[i] for x in all_mse_histories3]) for i in range(num_epochs)]\n",
    "\n",
    "plt.plot(range(1, len(average_mse_history3) + 1), average_mse_history3)\n",
    "plt.xlabel('Epochs')\n",
    "plt.ylabel('Validation MSE')\n",
    "plt.show()"
   ]
  },
  {
   "cell_type": "code",
   "execution_count": 17,
   "metadata": {},
   "outputs": [
    {
     "data": {
      "text/plain": [
       "10.463086837196107"
      ]
     },
     "execution_count": 17,
     "metadata": {},
     "output_type": "execute_result"
    }
   ],
   "source": [
    "min(average_mse_history3)"
   ]
  },
  {
   "cell_type": "markdown",
   "metadata": {},
   "source": [
    "#### Model 4: add regularizer L1"
   ]
  },
  {
   "cell_type": "code",
   "execution_count": 18,
   "metadata": {
    "collapsed": true
   },
   "outputs": [],
   "source": [
    "from keras import regularizers\n",
    "def build_model4():\n",
    "    model = models.Sequential()\n",
    "    model.add(layers.Dense(32, activation='relu', kernel_regularizer=regularizers.l1(0.001),\n",
    "                           input_shape=(train_data.shape[1],)))\n",
    "    model.add(layers.Dense(32, activation='relu', kernel_regularizer=regularizers.l1(0.001)))\n",
    "    model.add(layers.Dense(32, activation='relu', kernel_regularizer=regularizers.l1(0.001)))\n",
    "    model.add(layers.Dense(32, activation='relu', kernel_regularizer=regularizers.l1(0.001)))\n",
    "    model.add(layers.Dense(1))\n",
    "    model.compile(optimizer='rmsprop', loss='mse')\n",
    "    return model"
   ]
  },
  {
   "cell_type": "code",
   "execution_count": 19,
   "metadata": {},
   "outputs": [
    {
     "name": "stdout",
     "output_type": "stream",
     "text": [
      "processing fold # 0\n",
      "processing fold # 1\n",
      "processing fold # 2\n",
      "processing fold # 3\n",
      "processing fold # 4\n",
      "processing fold # 5\n",
      "processing fold # 6\n",
      "processing fold # 7\n",
      "processing fold # 8\n",
      "processing fold # 9\n"
     ]
    }
   ],
   "source": [
    "k=10\n",
    "num_val_samples = len(train_data) // k\n",
    "num_epochs = 100\n",
    "all_mse_histories4 = []\n",
    "for i in range(k):\n",
    "    print('processing fold #', i)\n",
    "    val_data = train_data[i * num_val_samples: (i + 1) * num_val_samples]\n",
    "    val_targets = train_targets[i * num_val_samples: (i + 1) * num_val_samples]\n",
    "    partial_train_data = np.concatenate(\n",
    "        [train_data[:i * num_val_samples],\n",
    "         train_data[(i + 1) * num_val_samples:]],\n",
    "        axis=0)\n",
    "    partial_train_targets = np.concatenate(\n",
    "        [train_targets[:i * num_val_samples],\n",
    "         train_targets[(i + 1) * num_val_samples:]],\n",
    "        axis=0)\n",
    "\n",
    "    model = build_model4()\n",
    "    history = model.fit(partial_train_data, partial_train_targets,\n",
    "                        validation_data=(val_data, val_targets),\n",
    "                        epochs=num_epochs, batch_size=1, verbose=0)\n",
    "    mse_history = history.history['val_loss']\n",
    "    all_mse_histories4.append(mse_history)"
   ]
  },
  {
   "cell_type": "code",
   "execution_count": 20,
   "metadata": {},
   "outputs": [
    {
     "data": {
      "image/png": "[encoded data removed]",
      "text/plain": [
       "<matplotlib.figure.Figure at 0x12ce0b9e8>"
      ]
     },
     "metadata": {},
     "output_type": "display_data"
    }
   ],
   "source": [
    "average_mse_history4 = [\n",
    "    np.mean([x[i] for x in all_mse_histories4]) for i in range(num_epochs)]\n",
    "\n",
    "plt.plot(range(1, len(average_mse_history4) + 1), average_mse_history4)\n",
    "plt.xlabel('Epochs')\n",
    "plt.ylabel('Validation MSE')\n",
    "plt.show()"
   ]
  },
  {
   "cell_type": "code",
   "execution_count": 21,
   "metadata": {},
   "outputs": [
    {
     "data": {
      "text/plain": [
       "10.00100642003119"
      ]
     },
     "execution_count": 21,
     "metadata": {},
     "output_type": "execute_result"
    }
   ],
   "source": [
    "min(average_mse_history4)"
   ]
  },
  {
   "cell_type": "markdown",
   "metadata": {},
   "source": [
    "#### Model 5. add regularizer L2"
   ]
  },
  {
   "cell_type": "code",
   "execution_count": 22,
   "metadata": {},
   "outputs": [],
   "source": [
    "from keras import regularizers\n",
    "def build_model5():\n",
    "    model = models.Sequential()\n",
    "    model.add(layers.Dense(32, activation='relu', kernel_regularizer=regularizers.l2(0.001),\n",
    "                           input_shape=(train_data.shape[1],)))\n",
    "    model.add(layers.Dense(32, activation='relu', kernel_regularizer=regularizers.l2(0.001)))\n",
    "    model.add(layers.Dense(32, activation='relu', kernel_regularizer=regularizers.l2(0.001)))\n",
    "    model.add(layers.Dense(32, activation='relu', kernel_regularizer=regularizers.l2(0.001)))\n",
    "    model.add(layers.Dense(1))\n",
    "    model.compile(optimizer='rmsprop', loss='mse')\n",
    "    return model"
   ]
  },
  {
   "cell_type": "code",
   "execution_count": 23,
   "metadata": {},
   "outputs": [
    {
     "name": "stdout",
     "output_type": "stream",
     "text": [
      "processing fold # 0\n",
      "processing fold # 1\n",
      "processing fold # 2\n",
      "processing fold # 3\n",
      "processing fold # 4\n",
      "processing fold # 5\n",
      "processing fold # 6\n",
      "processing fold # 7\n",
      "processing fold # 8\n",
      "processing fold # 9\n"
     ]
    }
   ],
   "source": [
    "k=10\n",
    "num_val_samples = len(train_data) // k\n",
    "num_epochs = 100\n",
    "all_mse_histories5 = []\n",
    "for i in range(k):\n",
    "    print('processing fold #', i)\n",
    "    val_data = train_data[i * num_val_samples: (i + 1) * num_val_samples]\n",
    "    val_targets = train_targets[i * num_val_samples: (i + 1) * num_val_samples]\n",
    "    partial_train_data = np.concatenate(\n",
    "        [train_data[:i * num_val_samples],\n",
    "         train_data[(i + 1) * num_val_samples:]],\n",
    "        axis=0)\n",
    "    partial_train_targets = np.concatenate(\n",
    "        [train_targets[:i * num_val_samples],\n",
    "         train_targets[(i + 1) * num_val_samples:]],\n",
    "        axis=0)\n",
    "\n",
    "    model = build_model5()\n",
    "    history = model.fit(partial_train_data, partial_train_targets,\n",
    "                        validation_data=(val_data, val_targets),\n",
    "                        epochs=num_epochs, batch_size=1, verbose=0)\n",
    "    mse_history = history.history['val_loss']\n",
    "    all_mse_histories5.append(mse_history)"
   ]
  },
  {
   "cell_type": "code",
   "execution_count": 24,
   "metadata": {},
   "outputs": [
    {
     "data": {
      "image/png": "[encoded data removed]",
      "text/plain": [
       "<matplotlib.figure.Figure at 0x12f24f128>"
      ]
     },
     "metadata": {},
     "output_type": "display_data"
    }
   ],
   "source": [
    "average_mse_history5 = [\n",
    "    np.mean([x[i] for x in all_mse_histories5]) for i in range(num_epochs)]\n",
    "\n",
    "plt.plot(range(1, len(average_mse_history5) + 1), average_mse_history5)\n",
    "plt.xlabel('Epochs')\n",
    "plt.ylabel('Validation MSE')\n",
    "plt.show()"
   ]
  },
  {
   "cell_type": "code",
   "execution_count": 25,
   "metadata": {},
   "outputs": [
    {
     "data": {
      "text/plain": [
       "10.899980111382902"
      ]
     },
     "execution_count": 25,
     "metadata": {},
     "output_type": "execute_result"
    }
   ],
   "source": [
    "min(average_mse_history5)"
   ]
  },
  {
   "cell_type": "code",
   "execution_count": 32,
   "metadata": {},
   "outputs": [
    {
     "data": {
      "image/png": "[encoded data removed]",
      "text/plain": [
       "<matplotlib.figure.Figure at 0x132af7eb8>"
      ]
     },
     "metadata": {},
     "output_type": "display_data"
    }
   ],
   "source": [
    "plt.plot(range(1, len(average_mse_history11) + 1), average_mse_history11)\n",
    "plt.plot(range(1, len(average_mse_history2) + 1), average_mse_history2)\n",
    "plt.plot(range(1, len(average_mse_history3) + 1), average_mse_history3)\n",
    "plt.plot(range(1, len(average_mse_history4) + 1), average_mse_history4)\n",
    "plt.plot(range(1, len(average_mse_history5) + 1), average_mse_history5)\n",
    "plt.xlabel('Epochs')\n",
    "plt.ylabel('Validation MSE')\n",
    "plt.legend(['model 1', 'model 2', 'model 3', 'model 4', 'model 5'])\n",
    "plt.show()"
   ]
  },
  {
   "cell_type": "markdown",
   "metadata": {},
   "source": [
    "From the results above, it can be seen that the performacne of the four models (1,3,4,5) are similar. The model with a 5 layers and a L1 regularizer will give the minimum validation MSE. Consider the computational complexity, the model with the least layer is the most efficient one. Furthermore, the model with more layers might have the problem of overfitting, hence we choose model 1. "
   ]
  },
  {
   "cell_type": "code",
   "execution_count": 35,
   "metadata": {},
   "outputs": [
    {
     "name": "stdout",
     "output_type": "stream",
     "text": [
      "Epoch 1/100\n",
      "404/404 [==============================] - 2s 5ms/step - loss: 183.2499\n",
      "Epoch 2/100\n",
      "404/404 [==============================] - 1s 2ms/step - loss: 22.3343\n",
      "Epoch 3/100\n",
      "404/404 [==============================] - 1s 2ms/step - loss: 17.0191\n",
      "Epoch 4/100\n",
      "404/404 [==============================] - 1s 1ms/step - loss: 14.4078\n",
      "Epoch 5/100\n",
      "404/404 [==============================] - 1s 2ms/step - loss: 12.6421\n",
      "Epoch 6/100\n",
      "404/404 [==============================] - 1s 2ms/step - loss: 11.9583\n",
      "Epoch 7/100\n",
      "404/404 [==============================] - 1s 2ms/step - loss: 11.0434\n",
      "Epoch 8/100\n",
      "404/404 [==============================] - 1s 1ms/step - loss: 11.1366\n",
      "Epoch 9/100\n",
      "404/404 [==============================] - 1s 1ms/step - loss: 10.5186\n",
      "Epoch 10/100\n",
      "404/404 [==============================] - 1s 2ms/step - loss: 9.9465\n",
      "Epoch 11/100\n",
      "404/404 [==============================] - 1s 1ms/step - loss: 10.0262\n",
      "Epoch 12/100\n",
      "404/404 [==============================] - 1s 1ms/step - loss: 9.4858\n",
      "Epoch 13/100\n",
      "404/404 [==============================] - 1s 1ms/step - loss: 9.0716\n",
      "Epoch 14/100\n",
      "404/404 [==============================] - 1s 1ms/step - loss: 9.0750\n",
      "Epoch 15/100\n",
      "404/404 [==============================] - 1s 2ms/step - loss: 8.7611\n",
      "Epoch 16/100\n",
      "404/404 [==============================] - 1s 1ms/step - loss: 8.8562\n",
      "Epoch 17/100\n",
      "404/404 [==============================] - 1s 1ms/step - loss: 8.2143\n",
      "Epoch 18/100\n",
      "404/404 [==============================] - 1s 1ms/step - loss: 8.2860\n",
      "Epoch 19/100\n",
      "404/404 [==============================] - 1s 2ms/step - loss: 7.9637\n",
      "Epoch 20/100\n",
      "404/404 [==============================] - 1s 2ms/step - loss: 8.2913\n",
      "Epoch 21/100\n",
      "404/404 [==============================] - 1s 1ms/step - loss: 7.8677\n",
      "Epoch 22/100\n",
      "404/404 [==============================] - 1s 1ms/step - loss: 7.5462\n",
      "Epoch 23/100\n",
      "404/404 [==============================] - 1s 1ms/step - loss: 7.9100\n",
      "Epoch 24/100\n",
      "404/404 [==============================] - 1s 1ms/step - loss: 7.4340\n",
      "Epoch 25/100\n",
      "404/404 [==============================] - 1s 1ms/step - loss: 7.7134\n",
      "Epoch 26/100\n",
      "404/404 [==============================] - 1s 2ms/step - loss: 7.1713\n",
      "Epoch 27/100\n",
      "404/404 [==============================] - 1s 1ms/step - loss: 7.0402\n",
      "Epoch 28/100\n",
      "404/404 [==============================] - 1s 2ms/step - loss: 7.2094\n",
      "Epoch 29/100\n",
      "404/404 [==============================] - 1s 1ms/step - loss: 7.1781\n",
      "Epoch 30/100\n",
      "404/404 [==============================] - 1s 1ms/step - loss: 7.1851\n",
      "Epoch 31/100\n",
      "404/404 [==============================] - ETA: 0s - loss: 5.596 - 1s 1ms/step - loss: 6.8102\n",
      "Epoch 32/100\n",
      "404/404 [==============================] - 1s 1ms/step - loss: 6.5965\n",
      "Epoch 33/100\n",
      "404/404 [==============================] - 1s 1ms/step - loss: 6.4679\n",
      "Epoch 34/100\n",
      "404/404 [==============================] - 1s 1ms/step - loss: 6.4505\n",
      "Epoch 35/100\n",
      "404/404 [==============================] - 1s 1ms/step - loss: 6.3573\n",
      "Epoch 36/100\n",
      "404/404 [==============================] - 1s 1ms/step - loss: 6.2073\n",
      "Epoch 37/100\n",
      "404/404 [==============================] - 1s 2ms/step - loss: 6.2410\n",
      "Epoch 38/100\n",
      "404/404 [==============================] - 1s 2ms/step - loss: 6.2865\n",
      "Epoch 39/100\n",
      "404/404 [==============================] - 1s 1ms/step - loss: 6.1161\n",
      "Epoch 40/100\n",
      "404/404 [==============================] - 1s 1ms/step - loss: 6.1508\n",
      "Epoch 41/100\n",
      "404/404 [==============================] - 0s 1ms/step - loss: 5.6100\n",
      "Epoch 42/100\n",
      "404/404 [==============================] - 0s 1ms/step - loss: 5.7347\n",
      "Epoch 43/100\n",
      "404/404 [==============================] - 1s 1ms/step - loss: 5.8965\n",
      "Epoch 44/100\n",
      "404/404 [==============================] - 1s 2ms/step - loss: 5.7182\n",
      "Epoch 45/100\n",
      "404/404 [==============================] - 1s 2ms/step - loss: 5.6691\n",
      "Epoch 46/100\n",
      "404/404 [==============================] - 1s 2ms/step - loss: 5.6262\n",
      "Epoch 47/100\n",
      "404/404 [==============================] - 1s 1ms/step - loss: 5.3830\n",
      "Epoch 48/100\n",
      "404/404 [==============================] - 1s 1ms/step - loss: 5.7309\n",
      "Epoch 49/100\n",
      "404/404 [==============================] - 1s 1ms/step - loss: 5.2935\n",
      "Epoch 50/100\n",
      "404/404 [==============================] - 1s 1ms/step - loss: 5.2157\n",
      "Epoch 51/100\n",
      "404/404 [==============================] - 1s 1ms/step - loss: 5.4227\n",
      "Epoch 52/100\n",
      "404/404 [==============================] - 1s 1ms/step - loss: 5.1549\n",
      "Epoch 53/100\n",
      "404/404 [==============================] - 1s 1ms/step - loss: 5.2360\n",
      "Epoch 54/100\n",
      "404/404 [==============================] - 1s 1ms/step - loss: 5.3995\n",
      "Epoch 55/100\n",
      "404/404 [==============================] - 1s 1ms/step - loss: 4.9810\n",
      "Epoch 56/100\n",
      "404/404 [==============================] - 1s 1ms/step - loss: 4.8618\n",
      "Epoch 57/100\n",
      "404/404 [==============================] - 1s 1ms/step - loss: 4.7837\n",
      "Epoch 58/100\n",
      "404/404 [==============================] - 1s 1ms/step - loss: 4.3751\n",
      "Epoch 59/100\n",
      "404/404 [==============================] - 1s 1ms/step - loss: 4.6570\n",
      "Epoch 60/100\n",
      "404/404 [==============================] - 1s 1ms/step - loss: 4.6344\n",
      "Epoch 61/100\n",
      "404/404 [==============================] - 1s 1ms/step - loss: 4.8351\n",
      "Epoch 62/100\n",
      "404/404 [==============================] - 1s 1ms/step - loss: 4.7644\n",
      "Epoch 63/100\n",
      "404/404 [==============================] - 1s 1ms/step - loss: 4.8005\n",
      "Epoch 64/100\n",
      "404/404 [==============================] - 1s 1ms/step - loss: 4.5799\n",
      "Epoch 65/100\n",
      "404/404 [==============================] - 1s 1ms/step - loss: 4.5400\n",
      "Epoch 66/100\n",
      "404/404 [==============================] - 1s 2ms/step - loss: 4.7200\n",
      "Epoch 67/100\n",
      "404/404 [==============================] - 1s 1ms/step - loss: 4.6163\n",
      "Epoch 68/100\n",
      "404/404 [==============================] - 1s 1ms/step - loss: 4.2564\n",
      "Epoch 69/100\n",
      "404/404 [==============================] - 1s 1ms/step - loss: 4.7423\n",
      "Epoch 70/100\n",
      "404/404 [==============================] - 1s 2ms/step - loss: 4.3113\n",
      "Epoch 71/100\n",
      "404/404 [==============================] - 1s 1ms/step - loss: 4.2572\n",
      "Epoch 72/100\n",
      "404/404 [==============================] - 1s 1ms/step - loss: 4.2705\n",
      "Epoch 73/100\n",
      "404/404 [==============================] - 1s 2ms/step - loss: 4.0167\n",
      "Epoch 74/100\n",
      "404/404 [==============================] - 1s 1ms/step - loss: 4.4002\n",
      "Epoch 75/100\n",
      "404/404 [==============================] - 1s 1ms/step - loss: 4.1669\n",
      "Epoch 76/100\n",
      "404/404 [==============================] - 1s 1ms/step - loss: 3.9877\n",
      "Epoch 77/100\n",
      "404/404 [==============================] - 1s 2ms/step - loss: 4.0900\n",
      "Epoch 78/100\n",
      "404/404 [==============================] - 1s 1ms/step - loss: 4.1634\n",
      "Epoch 79/100\n",
      "404/404 [==============================] - 1s 2ms/step - loss: 4.0416\n",
      "Epoch 80/100\n",
      "404/404 [==============================] - 1s 1ms/step - loss: 4.2788\n",
      "Epoch 81/100\n",
      "404/404 [==============================] - 1s 2ms/step - loss: 4.0114\n",
      "Epoch 82/100\n",
      "404/404 [==============================] - 1s 2ms/step - loss: 4.0495\n",
      "Epoch 83/100\n",
      "404/404 [==============================] - 1s 1ms/step - loss: 4.2061\n",
      "Epoch 84/100\n",
      "404/404 [==============================] - 1s 2ms/step - loss: 3.8515\n",
      "Epoch 85/100\n",
      "404/404 [==============================] - 1s 2ms/step - loss: 4.0043\n",
      "Epoch 86/100\n",
      "404/404 [==============================] - 1s 1ms/step - loss: 4.0274\n",
      "Epoch 87/100\n",
      "404/404 [==============================] - 1s 2ms/step - loss: 3.8246\n",
      "Epoch 88/100\n",
      "404/404 [==============================] - 1s 2ms/step - loss: 3.8816\n",
      "Epoch 89/100\n",
      "404/404 [==============================] - 1s 1ms/step - loss: 3.7187\n",
      "Epoch 90/100\n",
      "404/404 [==============================] - 1s 1ms/step - loss: 4.0213\n",
      "Epoch 91/100\n",
      "404/404 [==============================] - 1s 1ms/step - loss: 3.6918\n",
      "Epoch 92/100\n",
      "404/404 [==============================] - 1s 1ms/step - loss: 3.7649\n",
      "Epoch 93/100\n",
      "404/404 [==============================] - 1s 2ms/step - loss: 3.6285\n",
      "Epoch 94/100\n",
      "404/404 [==============================] - 1s 1ms/step - loss: 3.8992\n",
      "Epoch 95/100\n",
      "404/404 [==============================] - 1s 2ms/step - loss: 3.6612\n",
      "Epoch 96/100\n",
      "404/404 [==============================] - 1s 1ms/step - loss: 3.7966\n",
      "Epoch 97/100\n",
      "404/404 [==============================] - 1s 1ms/step - loss: 3.5761\n",
      "Epoch 98/100\n",
      "404/404 [==============================] - 1s 2ms/step - loss: 3.4827\n",
      "Epoch 99/100\n"
     ]
    },
    {
     "name": "stdout",
     "output_type": "stream",
     "text": [
      "404/404 [==============================] - 1s 2ms/step - loss: 3.5897\n",
      "Epoch 100/100\n",
      "404/404 [==============================] - 1s 1ms/step - loss: 3.5566\n"
     ]
    }
   ],
   "source": [
    "model = build_model1()\n",
    "history = model.fit(train_data, train_targets, epochs=num_epochs, batch_size=1)"
   ]
  },
  {
   "cell_type": "code",
   "execution_count": 36,
   "metadata": {},
   "outputs": [
    {
     "name": "stdout",
     "output_type": "stream",
     "text": [
      "102/102 [==============================] - 1s 6ms/step\n"
     ]
    },
    {
     "data": {
      "text/plain": [
       "11.558805129107308"
      ]
     },
     "execution_count": 36,
     "metadata": {},
     "output_type": "execute_result"
    }
   ],
   "source": [
    "test_mse_score = model.evaluate(test_data, test_targets)\n",
    "test_mse_score"
   ]
  },
  {
   "cell_type": "code",
   "execution_count": null,
   "metadata": {
    "collapsed": true
   },
   "outputs": [],
   "source": []
  }
 ],
 "metadata": {
  "kernelspec": {
   "display_name": "Python 3",
   "language": "python",
   "name": "python3"
  },
  "language_info": {
   "codemirror_mode": {
    "name": "ipython",
    "version": 3
   },
   "file_extension": ".py",
   "mimetype": "text/x-python",
   "name": "python",
   "nbconvert_exporter": "python",
   "pygments_lexer": "ipython3",
   "version": "3.6.3"
  }
 },
 "nbformat": 4,
 "nbformat_minor": 2
}
